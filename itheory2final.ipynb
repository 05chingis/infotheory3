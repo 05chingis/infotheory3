{
 "cells": [
  {
   "cell_type": "code",
   "execution_count": 1,
   "metadata": {},
   "outputs": [],
   "source": [
    "with open('Text.txt', 'r') as file:\n",
    "    TextReader = file.read().strip()\n",
    "dictionary={}\n",
    "for i in set(TextReader):\n",
    "    dictionary[i]=round(TextReader.count(i)/len(TextReader),3)\n",
    "d=dict(sorted(dictionary.items(), key=lambda item: item[1],reverse=True))"
   ]
  },
  {
   "cell_type": "code",
   "execution_count": 2,
   "metadata": {},
   "outputs": [
    {
     "data": {
      "text/plain": [
       "[0.167, 0.167, 0.083, 0.083, 0.083, 0.083, 0.083, 0.083, 0.083, 0.083]"
      ]
     },
     "execution_count": 2,
     "metadata": {},
     "output_type": "execute_result"
    }
   ],
   "source": [
    "values=list(d.values())\n",
    "values"
   ]
  },
  {
   "cell_type": "code",
   "execution_count": 3,
   "metadata": {},
   "outputs": [],
   "source": [
    "with open('Text.txt', 'r') as file:\n",
    "    TextReader = file.read().strip()\n",
    "dictionary1={}\n",
    "for i in set(TextReader):\n",
    "    dictionary1[i]=''"
   ]
  },
  {
   "cell_type": "code",
   "execution_count": 4,
   "metadata": {},
   "outputs": [
    {
     "data": {
      "text/plain": [
       "['t', 'l', 'i', 'o', 'y', ' ', 'H', 'e', 'h', '!']"
      ]
     },
     "execution_count": 4,
     "metadata": {},
     "output_type": "execute_result"
    }
   ],
   "source": [
    "keylist=list(d)\n",
    "keylist"
   ]
  },
  {
   "cell_type": "code",
   "execution_count": 5,
   "metadata": {},
   "outputs": [
    {
     "data": {
      "text/plain": [
       "{'t': '',\n",
       " 'l': '',\n",
       " 'i': '',\n",
       " 'o': '',\n",
       " 'y': '',\n",
       " ' ': '',\n",
       " 'H': '',\n",
       " 'e': '',\n",
       " 'h': '',\n",
       " '!': ''}"
      ]
     },
     "execution_count": 5,
     "metadata": {},
     "output_type": "execute_result"
    }
   ],
   "source": [
    "values1=list(dictionary1.values())\n",
    "dic=dict(zip(keylist, values1))\n",
    "dic"
   ]
  },
  {
   "cell_type": "code",
   "execution_count": 6,
   "metadata": {},
   "outputs": [
    {
     "data": {
      "text/plain": [
       "['', '', '', '', '', '', '', '', '', '']"
      ]
     },
     "execution_count": 6,
     "metadata": {},
     "output_type": "execute_result"
    }
   ],
   "source": [
    "values2=list(dic.values())\n",
    "values2"
   ]
  },
  {
   "cell_type": "code",
   "execution_count": 7,
   "metadata": {},
   "outputs": [],
   "source": [
    "def ShannonFano(d, begin, end):\n",
    "    if(begin==end):\n",
    "        return \n",
    "    a=begin\n",
    "    z=end\n",
    "    suml=0.0\n",
    "    sumr=0.0\n",
    "    while(a<=z):\n",
    "        if(suml<=sumr):\n",
    "            suml+=values[a]\n",
    "            a+=1\n",
    "        else:\n",
    "            sumr+=values[z]\n",
    "            z-=1\n",
    "    for i in range(begin,a):\n",
    "        values2[i]+='0'\n",
    "    for i in range(a,end+1): \n",
    "        values2[i]+='1'\n",
    "    ShannonFano(d, begin, a-1);\n",
    "    ShannonFano(d, a, end);"
   ]
  },
  {
   "cell_type": "code",
   "execution_count": 8,
   "metadata": {},
   "outputs": [],
   "source": [
    "ShannonFano(d,0,len(d)-1)"
   ]
  },
  {
   "cell_type": "code",
   "execution_count": 9,
   "metadata": {},
   "outputs": [
    {
     "data": {
      "text/plain": [
       "{'t': '00',\n",
       " 'l': '010',\n",
       " 'i': '0110',\n",
       " 'o': '0111',\n",
       " 'y': '1000',\n",
       " ' ': '1001',\n",
       " 'H': '101',\n",
       " 'e': '1100',\n",
       " 'h': '1101',\n",
       " '!': '111'}"
      ]
     },
     "execution_count": 9,
     "metadata": {},
     "output_type": "execute_result"
    }
   ],
   "source": [
    "dic=dict(zip(keylist, values2))\n",
    "dic"
   ]
  },
  {
   "cell_type": "code",
   "execution_count": 10,
   "metadata": {},
   "outputs": [],
   "source": [
    "with open('Text.txt', 'r') as file:\n",
    "    TextReader = file.read().strip()"
   ]
  },
  {
   "cell_type": "code",
   "execution_count": 11,
   "metadata": {},
   "outputs": [
    {
     "name": "stdout",
     "output_type": "stream",
     "text": [
      "Hello hitty!\n"
     ]
    }
   ],
   "source": [
    "print(TextReader)"
   ]
  },
  {
   "cell_type": "code",
   "execution_count": 12,
   "metadata": {},
   "outputs": [
    {
     "name": "stdout",
     "output_type": "stream",
     "text": [
      "1011100010010011110011101011000001000111\n"
     ]
    }
   ],
   "source": [
    "x=''\n",
    "for i in TextReader:\n",
    "    x+=dic[i]\n",
    "print(x)"
   ]
  },
  {
   "cell_type": "code",
   "execution_count": 13,
   "metadata": {},
   "outputs": [
    {
     "data": {
      "text/plain": [
       "96"
      ]
     },
     "execution_count": 13,
     "metadata": {},
     "output_type": "execute_result"
    }
   ],
   "source": [
    "initial_weight= len(TextReader)*8\n",
    "initial_weight"
   ]
  },
  {
   "cell_type": "code",
   "execution_count": 14,
   "metadata": {},
   "outputs": [
    {
     "data": {
      "text/plain": [
       "40"
      ]
     },
     "execution_count": 14,
     "metadata": {},
     "output_type": "execute_result"
    }
   ],
   "source": [
    "compressed_weight=len(x)\n",
    "compressed_weight"
   ]
  },
  {
   "cell_type": "code",
   "execution_count": 15,
   "metadata": {},
   "outputs": [
    {
     "data": {
      "text/plain": [
       "2.4"
      ]
     },
     "execution_count": 15,
     "metadata": {},
     "output_type": "execute_result"
    }
   ],
   "source": [
    "ratio=initial_weight/compressed_weight\n",
    "ratio"
   ]
  },
  {
   "cell_type": "code",
   "execution_count": 16,
   "metadata": {},
   "outputs": [],
   "source": [
    "acl=0\n",
    "for i in range(0,len(d)):\n",
    "    acl += len(TextReader)*values[i]*len(values2[i])"
   ]
  },
  {
   "cell_type": "code",
   "execution_count": 17,
   "metadata": {},
   "outputs": [
    {
     "data": {
      "text/plain": [
       "3.325"
      ]
     },
     "execution_count": 17,
     "metadata": {},
     "output_type": "execute_result"
    }
   ],
   "source": [
    "acl/=len(TextReader)\n",
    "round(acl,3)"
   ]
  },
  {
   "cell_type": "code",
   "execution_count": null,
   "metadata": {},
   "outputs": [],
   "source": []
  }
 ],
 "metadata": {
  "kernelspec": {
   "display_name": "Python 3",
   "language": "python",
   "name": "python3"
  },
  "language_info": {
   "codemirror_mode": {
    "name": "ipython",
    "version": 3
   },
   "file_extension": ".py",
   "mimetype": "text/x-python",
   "name": "python",
   "nbconvert_exporter": "python",
   "pygments_lexer": "ipython3",
   "version": "3.8.3"
  }
 },
 "nbformat": 4,
 "nbformat_minor": 4
}
