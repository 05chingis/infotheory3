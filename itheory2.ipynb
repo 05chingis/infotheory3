{
 "cells": [
  {
   "cell_type": "code",
   "execution_count": 1,
   "metadata": {},
   "outputs": [],
   "source": [
    "with open('Text.txt', 'r') as file:\n",
    "    TextReader = file.read().strip()\n",
    "dictionary={}\n",
    "for i in set(TextReader):\n",
    "    dictionary[i]=round(TextReader.count(i)/len(TextReader),3)\n",
    "d=dict(sorted(dictionary.items(), key=lambda item: item[1],reverse=True))"
   ]
  },
  {
   "cell_type": "code",
   "execution_count": 2,
   "metadata": {},
   "outputs": [
    {
     "data": {
      "text/plain": [
       "{'t': 0.167,\n",
       " 'l': 0.167,\n",
       " 'e': 0.083,\n",
       " 'o': 0.083,\n",
       " '!': 0.083,\n",
       " ' ': 0.083,\n",
       " 'h': 0.083,\n",
       " 'i': 0.083,\n",
       " 'y': 0.083,\n",
       " 'H': 0.083}"
      ]
     },
     "execution_count": 2,
     "metadata": {},
     "output_type": "execute_result"
    }
   ],
   "source": [
    "d\n"
   ]
  },
  {
   "cell_type": "code",
   "execution_count": 3,
   "metadata": {},
   "outputs": [
    {
     "data": {
      "text/plain": [
       "[0.167, 0.167, 0.083, 0.083, 0.083, 0.083, 0.083, 0.083, 0.083, 0.083]"
      ]
     },
     "execution_count": 3,
     "metadata": {},
     "output_type": "execute_result"
    }
   ],
   "source": [
    "values=list(d.values())\n",
    "values"
   ]
  },
  {
   "cell_type": "code",
   "execution_count": 4,
   "metadata": {},
   "outputs": [],
   "source": [
    "with open('Text.txt', 'r') as file:\n",
    "    TextReader = file.read().strip()\n",
    "dictionary1={}\n",
    "for i in set(TextReader):\n",
    "    dictionary1[i]=''"
   ]
  },
  {
   "cell_type": "code",
   "execution_count": 5,
   "metadata": {},
   "outputs": [
    {
     "data": {
      "text/plain": [
       "{'e': '',\n",
       " 'o': '',\n",
       " 't': '',\n",
       " '!': '',\n",
       " ' ': '',\n",
       " 'h': '',\n",
       " 'i': '',\n",
       " 'y': '',\n",
       " 'H': '',\n",
       " 'l': ''}"
      ]
     },
     "execution_count": 5,
     "metadata": {},
     "output_type": "execute_result"
    }
   ],
   "source": [
    "dictionary1"
   ]
  },
  {
   "cell_type": "code",
   "execution_count": 6,
   "metadata": {},
   "outputs": [
    {
     "data": {
      "text/plain": [
       "['t', 'l', 'e', 'o', '!', ' ', 'h', 'i', 'y', 'H']"
      ]
     },
     "execution_count": 6,
     "metadata": {},
     "output_type": "execute_result"
    }
   ],
   "source": [
    "keylist=list(d)\n",
    "keylist"
   ]
  },
  {
   "cell_type": "code",
   "execution_count": 7,
   "metadata": {},
   "outputs": [
    {
     "data": {
      "text/plain": [
       "''"
      ]
     },
     "execution_count": 7,
     "metadata": {},
     "output_type": "execute_result"
    }
   ],
   "source": [
    "values1=list(dictionary1.values())\n",
    "values1[0]"
   ]
  },
  {
   "cell_type": "code",
   "execution_count": 8,
   "metadata": {},
   "outputs": [
    {
     "data": {
      "text/plain": [
       "['', '', '', '', '', '', '', '', '', '']"
      ]
     },
     "execution_count": 8,
     "metadata": {},
     "output_type": "execute_result"
    }
   ],
   "source": [
    "values1"
   ]
  },
  {
   "cell_type": "code",
   "execution_count": 9,
   "metadata": {},
   "outputs": [
    {
     "data": {
      "text/plain": [
       "{'t': '',\n",
       " 'l': '',\n",
       " 'e': '',\n",
       " 'o': '',\n",
       " '!': '',\n",
       " ' ': '',\n",
       " 'h': '',\n",
       " 'i': '',\n",
       " 'y': '',\n",
       " 'H': ''}"
      ]
     },
     "execution_count": 9,
     "metadata": {},
     "output_type": "execute_result"
    }
   ],
   "source": [
    "dic=dict(zip(keylist, values1))\n",
    "dic"
   ]
  },
  {
   "cell_type": "code",
   "execution_count": 14,
   "metadata": {},
   "outputs": [
    {
     "data": {
      "text/plain": [
       "['00', '010', '0110', '0', '1000', '100', '10', '1100', '110', '']"
      ]
     },
     "execution_count": 14,
     "metadata": {},
     "output_type": "execute_result"
    }
   ],
   "source": [
    "values2=list(dic.values())\n",
    "values2"
   ]
  },
  {
   "cell_type": "code",
   "execution_count": 11,
   "metadata": {},
   "outputs": [],
   "source": [
    "def ShannonFano(d, beg, end):\n",
    "    if(beg==end):\n",
    "        return\n",
    "    y=beg\n",
    "    z=end\n",
    "    sum_left=0.0\n",
    "    sum_right=0.0\n",
    "    while(y<=z):\n",
    "        if(sum_left<=sum_right):\n",
    "            sum_left+=values[y]\n",
    "            y+=1\n",
    "        else:\n",
    "            sum_right+=values[z]\n",
    "            z-=1\n",
    "    for h in range(beg,y):\n",
    "        values2[h]+='0'\n",
    "    for h in range(y,end): \n",
    "        values2[h]+='1'\n",
    "    ShannonFano(d, beg, y-1);\n",
    "    ShannonFano(d, y, end);"
   ]
  },
  {
   "cell_type": "code",
   "execution_count": 12,
   "metadata": {},
   "outputs": [],
   "source": [
    "ShannonFano(d,0,len(d)-1)"
   ]
  },
  {
   "cell_type": "code",
   "execution_count": 13,
   "metadata": {},
   "outputs": [
    {
     "data": {
      "text/plain": [
       "{'t': '00',\n",
       " 'l': '010',\n",
       " 'e': '0110',\n",
       " 'o': '0',\n",
       " '!': '1000',\n",
       " ' ': '100',\n",
       " 'h': '10',\n",
       " 'i': '1100',\n",
       " 'y': '110',\n",
       " 'H': ''}"
      ]
     },
     "execution_count": 13,
     "metadata": {},
     "output_type": "execute_result"
    }
   ],
   "source": [
    "dic=dict(zip(keylist, values2))\n",
    "dic"
   ]
  },
  {
   "cell_type": "code",
   "execution_count": null,
   "metadata": {},
   "outputs": [],
   "source": []
  }
 ],
 "metadata": {
  "kernelspec": {
   "display_name": "Python 3",
   "language": "python",
   "name": "python3"
  },
  "language_info": {
   "codemirror_mode": {
    "name": "ipython",
    "version": 3
   },
   "file_extension": ".py",
   "mimetype": "text/x-python",
   "name": "python",
   "nbconvert_exporter": "python",
   "pygments_lexer": "ipython3",
   "version": "3.8.3"
  }
 },
 "nbformat": 4,
 "nbformat_minor": 4
}
